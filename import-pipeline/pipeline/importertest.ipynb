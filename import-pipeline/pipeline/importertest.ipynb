{
 "cells": [
  {
   "cell_type": "code",
   "execution_count": 49,
   "source": [
    "from pandas import read_excel, Series, concat\r\n",
    "import numpy as N"
   ],
   "outputs": [],
   "metadata": {}
  },
  {
   "cell_type": "code",
   "execution_count": 50,
   "source": [
    "df = read_excel('21455.xlsx')"
   ],
   "outputs": [],
   "metadata": {}
  },
  {
   "cell_type": "code",
   "execution_count": 51,
   "source": [
    "def value_index(df, value, integer=False):\r\n",
    "    for i, row in df.iterrows():\r\n",
    "        for j, col in row.iteritems():\r\n",
    "            if col != value: continue\r\n",
    "            if integer:\r\n",
    "                i = df.index.get_loc(i)\r\n",
    "                j = df.columns.get_loc(j)\r\n",
    "            return (i,j)"
   ],
   "outputs": [],
   "metadata": {}
  },
  {
   "cell_type": "code",
   "execution_count": null,
   "source": [
    "def sample_info(df):\r\n",
    "        # Get the upper-left index of several subtables\r\n",
    "        ixa = value_index(df, \"Sample:\")\r\n",
    "        ixb = value_index(df, \"N\")\r\n",
    "\r\n",
    "        # \r\n",
    "        sample = (df.iloc[ixa[0]:ixb[0],:]\r\n",
    "            .dropna(axis=0, how='all')\r\n",
    "            .dropna(axis=1, how='all'))\r\n",
    "\r\n",
    "        sample = sample[:2]\r\n",
    "        return(sample)\r\n",
    "\r\n",
    "#test = sample_info(df)\r\n",
    "#print(sample)"
   ],
   "outputs": [],
   "metadata": {}
  },
  {
   "cell_type": "code",
   "execution_count": 52,
   "source": [
    "def extract_incremental_table(df):\r\n",
    "    #get index of top of the table\r\n",
    "    ixc = value_index(df, \"N\")\r\n",
    "    ixd = value_index(df, \"Integrated K/Ca ±2σ\")\r\n",
    "    col = 0\r\n",
    "    # Clean the table\r\n",
    "    results = (df.iloc[ixc[0]:ixd[0],col:]\r\n",
    "            .dropna(axis=0, how='all')\r\n",
    "            .dropna(axis=1, how='all'))\r\n",
    "    results.iloc[0,0:1] = ['in_plateau']\r\n",
    "    results = results.rename(columns=results.iloc[0]).iloc[2:]\r\n",
    "    #reset index\r\n",
    "    results = results.reset_index(drop=True)\r\n",
    "    return results\r\n",
    "\r\n",
    "#test = extract_incremental_table(df)\r\n",
    "#print(test)\r\n"
   ],
   "outputs": [],
   "metadata": {}
  },
  {
   "cell_type": "code",
   "execution_count": 70,
   "source": [
    "#def extract_summary(df):\r\n",
    "    #get index of top of the table\r\n",
    "ixe = value_index(df, \"Integrated K/Ca ±2σ\")\r\n",
    "ixf = value_index(df, \"Notes:\")\r\n",
    "col = 0\r\n",
    "    # Clean the table\r\n",
    "summary = (df.iloc[ixe[0]:ixf[0],col:]\r\n",
    "        .dropna(axis=0, how='all')\r\n",
    "        .dropna(axis=1, how='all'))\r\n",
    "summary.iloc[0] = summary.iloc[0].str.split('±').str[0]\r\n",
    "    #reset index\r\n",
    "summary = summary.reset_index(drop=True)\r\n",
    "    #return summary\r\n",
    "\r\n",
    "print(summary)"
   ],
   "outputs": [
    {
     "output_type": "stream",
     "name": "stdout",
     "text": [
      "                 Unnamed: 0 Unnamed: 3 Unnamed: 4 Unnamed: 5  Unnamed: 6  \\\n",
      "0          Integrated K/Ca         NaN        NaN        NaN         NaN   \n",
      "1           Plateau Age ±2σ     80.626   0.134539    n=17/31  MSWD=0.764   \n",
      "2  Total Integrated Age ±2σ    80.6024    0.15252        NaN         NaN   \n",
      "3          Isochron Age ±2σ    81.0107   0.666998        NaN  MSWD=0.754   \n",
      "\n",
      "                         Unnamed: 7  \n",
      "0                                SD  \n",
      "1                       steps AG-AW  \n",
      "2                               NaN  \n",
      "3  (40Ar/36Ar)trapped=284.203±8.744  \n"
     ]
    }
   ],
   "metadata": {}
  }
 ],
 "metadata": {
  "orig_nbformat": 4,
  "language_info": {
   "name": "python",
   "version": "3.7.3",
   "mimetype": "text/x-python",
   "codemirror_mode": {
    "name": "ipython",
    "version": 3
   },
   "pygments_lexer": "ipython3",
   "nbconvert_exporter": "python",
   "file_extension": ".py"
  },
  "kernelspec": {
   "name": "python3",
   "display_name": "Python 3.7.3 64-bit ('base': conda)"
  },
  "interpreter": {
   "hash": "9fcc6cf088657e7802af73ca167649f47eebd3b643e388a7c4f813753ca8afdd"
  }
 },
 "nbformat": 4,
 "nbformat_minor": 2
}