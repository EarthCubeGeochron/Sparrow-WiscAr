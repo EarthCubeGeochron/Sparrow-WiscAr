{
 "cells": [
  {
   "cell_type": "code",
   "execution_count": 2,
   "source": [
    "from pandas import read_excel, Series, concat\r\n",
    "import numpy as N"
   ],
   "outputs": [],
   "metadata": {}
  },
  {
   "cell_type": "code",
   "execution_count": 3,
   "source": [
    "def value_index(df, value, integer=False):\r\n",
    "    for i, row in df.iterrows():\r\n",
    "        for j, col in row.iteritems():\r\n",
    "            if col != value: continue\r\n",
    "            if integer:\r\n",
    "                i = df.index.get_loc(i)\r\n",
    "                j = df.columns.get_loc(j)\r\n",
    "            return (i,j)"
   ],
   "outputs": [],
   "metadata": {}
  },
  {
   "cell_type": "code",
   "execution_count": 74,
   "source": [
    "df = read_excel('//wsl$/Ubuntu-20.04/home/bbruck/Sparrow-WiscAr/Data/Noblesse-test-data/Complete data_Cooper_biotite_Aug2019.xlsx')\r\n",
    "df.columns = range(df.columns.size)\r\n",
    "#get index for column labels\r\n",
    "ixcl = value_index(df, \"N\")\r\n",
    "#create dataframe from column labels, and drop those from df\r\n",
    "label = (df.iloc[ixcl[0],:])\r\n",
    "label.iloc[0] = 'omit' \r\n",
    "df = df.drop([ixcl[0]-1,ixcl[0],ixcl[0]+1])\r\n",
    "        \r\n"
   ],
   "outputs": [],
   "metadata": {}
  },
  {
   "cell_type": "code",
   "execution_count": 75,
   "source": [
    "def sample_index(df):\r\n",
    " \r\n",
    "    return pos"
   ],
   "outputs": [],
   "metadata": {}
  },
  {
   "cell_type": "code",
   "execution_count": 127,
   "source": [
    "def separate_samples(df):    \r\n",
    "    #identify the instances of Sample: in the file\r\n",
    "    ixs = list()\r\n",
    "    result = df.isin([\"Sample:\"])\r\n",
    "    series = result.any()\r\n",
    "    columnNames = list(series[series == True].index)\r\n",
    "    for col in columnNames:\r\n",
    "        rows = list(result[col][result[col] == True].index)\r\n",
    "        for row in rows:\r\n",
    "            ixs.append((row, col))\r\n",
    "    #create a dictionary to hold the dataframes for each sample        \r\n",
    "    sdf = {}\r\n",
    "    #fill the dicitonary\r\n",
    "    for i in range(len(ixs)):\r\n",
    "        try:\r\n",
    "            sdf[i] = (df.loc[ixs[i][0]:ixs[i+1][0]-1,:]\r\n",
    "                .dropna(axis=0, how='all')\r\n",
    "                .dropna(axis=1, how='all'))\r\n",
    "        except:\r\n",
    "            sdf[i] = (df.loc[ixs[i][0]:,:]\r\n",
    "                .dropna(axis=0, how='all')\r\n",
    "                .dropna(axis=1, how='all'))\r\n",
    "    return sdf\r\n",
    "\r\n",
    "test = separate_samples(df)\r\n",
    "print(test[0])\r\n"
   ],
   "outputs": [
    {
     "output_type": "stream",
     "name": "stdout",
     "text": [
      "                          0          1        2        3          4   \\\n",
      "0                        NaN    Sample:  SID1602      NaN        NaN   \n",
      "1                        NaN  Material:  Biotite      NaN        NaN   \n",
      "5                        NaN        01A     0.28  33.2066    4.20048   \n",
      "6                        NaN        01B     0.33  37.2442    1.17039   \n",
      "7                        NaN        01C     0.41  38.5354   0.545905   \n",
      "8                        NaN        01D     0.55  38.5653    0.21631   \n",
      "9                        NaN        01E      0.7   38.861   0.196613   \n",
      "10                       NaN        01F     0.85  38.7148   0.156226   \n",
      "11                       NaN        01G        1  38.7763   0.148736   \n",
      "12                       NaN        01H      1.2  38.7935   0.110475   \n",
      "13                       NaN        01I      1.4  38.5724  0.0943616   \n",
      "14                       NaN        01J      1.6  38.5445   0.076698   \n",
      "15                       NaN        01K     1.85  38.6901   0.180441   \n",
      "16                       NaN        01L      2.1  38.6058   0.161765   \n",
      "17                       NaN        01M     2.35  37.5289   0.804651   \n",
      "18       Integrated K/Ca ±2σ        NaN      NaN      NaN        NaN   \n",
      "19           Plateau Age ±2σ        NaN      NaN  38.6381  0.0836046   \n",
      "20  Total Integrated Age ±2σ        NaN      NaN  38.6116   0.100695   \n",
      "21          Isochron Age ±2σ        NaN      NaN  38.6479   0.108134   \n",
      "22    (40Ar/36Ar)trapped ±1σ        NaN      NaN  296.969    4.59261   \n",
      "\n",
      "             5           6          7        8         9   ...        44  \\\n",
      "0   Identifier:   UW145:D51        NaN      NaN       NaN  ...       NaN   \n",
      "1           NaN         NaN        NaN      NaN       NaN  ...       NaN   \n",
      "5      0.658639     0.10811    2308.69  528.363  0.278046  ...  1.96e-05   \n",
      "6       12.1718     8.10718   -1334.85  80.0607   1.59565  ...  1.96e-05   \n",
      "7       9.94446      2.6562   -17590.4  17599.6    4.2865  ...  1.96e-05   \n",
      "8       9.99124    0.941905    1771.69  65.6467   11.8871  ...  1.96e-05   \n",
      "9       20.6476     3.98395     1867.5  82.7332   18.7988  ...  1.96e-05   \n",
      "10      115.798     122.868    1869.25  64.0682    26.677  ...  1.96e-05   \n",
      "11      11.2869    0.963059    1380.54  51.1516   36.9947  ...  1.96e-05   \n",
      "12      10.1381    0.602652    1873.39  57.9263   50.2391  ...  1.96e-05   \n",
      "13      4.02347    0.103989    1976.61  66.6089   63.5649  ...  1.96e-05   \n",
      "14      5.28628     0.12439    1849.55  54.1277   81.8683  ...  1.96e-05   \n",
      "15      9.07514    0.903988    1736.65  75.2309   88.5773  ...  1.96e-05   \n",
      "16      3.08007    0.080783    1857.43  65.4586   98.6115  ...  1.96e-05   \n",
      "17      37.4621     73.3243    2795.66  359.669       100  ...  1.96e-05   \n",
      "18      6.66952    0.241697         SD      NaN       NaN  ...       NaN   \n",
      "19      n=13/13  MSWD=0.967  steps A-M      NaN       NaN  ...       NaN   \n",
      "20          NaN         NaN        NaN      NaN       NaN  ...       NaN   \n",
      "21          NaN  MSWD=1.047        NaN      NaN       NaN  ...       NaN   \n",
      "22          NaN         NaN        NaN      NaN       NaN  ...       NaN   \n",
      "\n",
      "         45        46     47   48   49    50   51     52   53  \n",
      "0       NaN       NaN    NaN  NaN  NaN   NaN  NaN    NaN  NaN  \n",
      "1       NaN       NaN    NaN  NaN  NaN   NaN  NaN    NaN  NaN  \n",
      "5   1.6e-06  0.000265  4e-06  263    0  2.32    0  0.227    0  \n",
      "6   1.6e-06  0.000265  4e-06  263    0  2.32    0  0.227    0  \n",
      "7   1.6e-06  0.000265  4e-06  263    0  2.32    0  0.227    0  \n",
      "8   1.6e-06  0.000265  4e-06  263    0  2.32    0  0.227    0  \n",
      "9   1.6e-06  0.000265  4e-06  263    0  2.32    0  0.227    0  \n",
      "10  1.6e-06  0.000265  4e-06  263    0  2.32    0  0.227    0  \n",
      "11  1.6e-06  0.000265  4e-06  263    0  2.32    0  0.227    0  \n",
      "12  1.6e-06  0.000265  4e-06  263    0  2.32    0  0.227    0  \n",
      "13  1.6e-06  0.000265  4e-06  263    0  2.32    0  0.227    0  \n",
      "14  1.6e-06  0.000265  4e-06  263    0  2.32    0  0.227    0  \n",
      "15  1.6e-06  0.000265  4e-06  263    0  2.32    0  0.227    0  \n",
      "16  1.6e-06  0.000265  4e-06  263    0  2.32    0  0.227    0  \n",
      "17  1.6e-06  0.000265  4e-06  263    0  2.32    0  0.227    0  \n",
      "18      NaN       NaN    NaN  NaN  NaN   NaN  NaN    NaN  NaN  \n",
      "19      NaN       NaN    NaN  NaN  NaN   NaN  NaN    NaN  NaN  \n",
      "20      NaN       NaN    NaN  NaN  NaN   NaN  NaN    NaN  NaN  \n",
      "21      NaN       NaN    NaN  NaN  NaN   NaN  NaN    NaN  NaN  \n",
      "22      NaN       NaN    NaN  NaN  NaN   NaN  NaN    NaN  NaN  \n",
      "\n",
      "[20 rows x 54 columns]\n"
     ]
    }
   ],
   "metadata": {}
  },
  {
   "cell_type": "code",
   "execution_count": 77,
   "source": [
    "def sample_info(df):\r\n",
    "        # Get the upper-left index of several subtables\r\n",
    "        ixa = value_index(df, \"Sample:\")\r\n",
    "        ixb = value_index(df, \"Material:\")\r\n",
    "        ixc = value_index(df, \"Identifier:\")\r\n",
    "        sample = (df.iloc[ixa[0]:ixb[0]+1,:]\r\n",
    "            .dropna(axis=0, how='all')\r\n",
    "            .dropna(axis=1, how='all'))\r\n",
    "        sample.at[ixb[0]+1,ixb[1]] = sample.at[ixc]\r\n",
    "        sample.at[ixb[0]+1,ixb[1]+1] = sample.at[ixc[0],ixc[1]+1]\r\n",
    "        sample = sample.drop([ixc[1],ixc[1]+1], axis=1)\r\n",
    "        return(sample)"
   ],
   "outputs": [],
   "metadata": {}
  },
  {
   "cell_type": "code",
   "execution_count": 95,
   "source": [
    "def extract_incremental_table(df):\r\n",
    "    #get index of top of the table\r\n",
    "    ixb = value_index(df, \"Material:\")\r\n",
    "    ixd = value_index(df, \"Integrated K/Ca ±2σ\")\r\n",
    "    # Clean the table\r\n",
    "    results = (df.loc[ixb[0]+1:ixd[0]-1,0:]\r\n",
    "            .dropna(axis=0, how='all'))\r\n",
    "    results.set_axis([label], axis=1, inplace=True)        \r\n",
    "    return results\r\n",
    "\r\n"
   ],
   "outputs": [],
   "metadata": {}
  },
  {
   "cell_type": "code",
   "execution_count": 124,
   "source": [
    "\r\n",
    "    \r\n",
    "\r\n",
    "test = separate_samples(df)\r\n",
    "t2 = extract_summary(test[5])\r\n",
    "#t3 = extract_summary(test[5])\r\n",
    "print(t2)\r\n",
    "#print(t3)\r\n",
    "#t2 = extract_summary(test[0])\r\n",
    "#print(t2)"
   ],
   "outputs": [
    {
     "output_type": "stream",
     "name": "stdout",
     "text": [
      "                            0        3         4        5        6    7\n",
      "142       Integrated K/Ca ±2σ      NaN       NaN  8.92151  1.20349   SD\n",
      "143  Total Integrated Age ±2σ  281.034  0.273761      NaN      NaN  NaN\n"
     ]
    }
   ],
   "metadata": {}
  }
 ],
 "metadata": {
  "orig_nbformat": 4,
  "language_info": {
   "name": "python",
   "version": "3.7.3",
   "mimetype": "text/x-python",
   "codemirror_mode": {
    "name": "ipython",
    "version": 3
   },
   "pygments_lexer": "ipython3",
   "nbconvert_exporter": "python",
   "file_extension": ".py"
  },
  "kernelspec": {
   "name": "python3",
   "display_name": "Python 3.7.3 64-bit ('base': conda)"
  },
  "interpreter": {
   "hash": "9fcc6cf088657e7802af73ca167649f47eebd3b643e388a7c4f813753ca8afdd"
  }
 },
 "nbformat": 4,
 "nbformat_minor": 2
}